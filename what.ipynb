{
 "cells": [
  {
   "cell_type": "code",
   "execution_count": 1,
   "id": "e69c7499",
   "metadata": {},
   "outputs": [],
   "source": [
    "import re\n",
    "import pandas as pd"
   ]
  },
  {
   "cell_type": "code",
   "execution_count": 2,
   "id": "0dca6928",
   "metadata": {},
   "outputs": [],
   "source": [
    "# Read the file\n",
    "with open('_chat 9.txt', 'r', encoding='utf-8') as file:\n",
    "    lines = file.readlines()"
   ]
  },
  {
   "cell_type": "code",
   "execution_count": 3,
   "id": "9508080f",
   "metadata": {},
   "outputs": [],
   "source": [
    "# Initialize lists\n",
    "dates, times, senders, messages = [], [], [], []"
   ]
  },
  {
   "cell_type": "code",
   "execution_count": 4,
   "id": "a084724d",
   "metadata": {},
   "outputs": [],
   "source": [
    "# Regular expression pattern\n",
    "pattern = r'^\\[(\\d{2}/\\d{2}/\\d{2}), (\\d{2}:\\d{2}:\\d{2})\\] (.*?): (.*)'"
   ]
  },
  {
   "cell_type": "code",
   "execution_count": 5,
   "id": "b0baf455",
   "metadata": {},
   "outputs": [],
   "source": [
    "# Parse each line\n",
    "for line in lines:\n",
    "    match = re.match(pattern, line)\n",
    "    if match:\n",
    "        date, time, sender, message = match.groups()\n",
    "        dates.append(date)\n",
    "        times.append(time)\n",
    "        senders.append(sender)\n",
    "        messages.append(message)\n",
    "    else:\n",
    "        # Append multiline messages to the last message\n",
    "        if messages:\n",
    "            messages[-1] += '\\n' + line.strip()\n"
   ]
  },
  {
   "cell_type": "code",
   "execution_count": 6,
   "id": "2326f637",
   "metadata": {},
   "outputs": [],
   "source": [
    "# Create DataFrame\n",
    "df = pd.DataFrame({\n",
    "    'date': dates,\n",
    "    'time': times,\n",
    "    'sender': senders,\n",
    "    'message': messages\n",
    "})"
   ]
  },
  {
   "cell_type": "code",
   "execution_count": 7,
   "id": "53f43e37",
   "metadata": {},
   "outputs": [
    {
     "data": {
      "text/html": [
       "<div>\n",
       "<style scoped>\n",
       "    .dataframe tbody tr th:only-of-type {\n",
       "        vertical-align: middle;\n",
       "    }\n",
       "\n",
       "    .dataframe tbody tr th {\n",
       "        vertical-align: top;\n",
       "    }\n",
       "\n",
       "    .dataframe thead th {\n",
       "        text-align: right;\n",
       "    }\n",
       "</style>\n",
       "<table border=\"1\" class=\"dataframe\">\n",
       "  <thead>\n",
       "    <tr style=\"text-align: right;\">\n",
       "      <th></th>\n",
       "      <th>date</th>\n",
       "      <th>time</th>\n",
       "      <th>sender</th>\n",
       "      <th>message</th>\n",
       "    </tr>\n",
       "  </thead>\n",
       "  <tbody>\n",
       "    <tr>\n",
       "      <th>0</th>\n",
       "      <td>28/09/21</td>\n",
       "      <td>19:57:19</td>\n",
       "      <td>CS2 -grp B</td>\n",
       "      <td>‎Messages and calls are end-to-end encrypted. ...</td>\n",
       "    </tr>\n",
       "    <tr>\n",
       "      <th>1</th>\n",
       "      <td>28/09/21</td>\n",
       "      <td>19:57:19</td>\n",
       "      <td>Rishita CS2</td>\n",
       "      <td>‎Rishita CS2 created this group</td>\n",
       "    </tr>\n",
       "    <tr>\n",
       "      <th>2</th>\n",
       "      <td>28/09/21</td>\n",
       "      <td>19:57:19</td>\n",
       "      <td>CS2 -grp B</td>\n",
       "      <td>‎You were added</td>\n",
       "    </tr>\n",
       "    <tr>\n",
       "      <th>3</th>\n",
       "      <td>06/09/22</td>\n",
       "      <td>16:45:49</td>\n",
       "      <td>Shiya Mer GR Cs2</td>\n",
       "      <td>There will be a written sessional test for 5 m...</td>\n",
       "    </tr>\n",
       "    <tr>\n",
       "      <th>4</th>\n",
       "      <td>06/09/22</td>\n",
       "      <td>16:46:42</td>\n",
       "      <td>Shiya Mer GR Cs2</td>\n",
       "      <td>Usage of Matlab software is not allowed. Pls b...</td>\n",
       "    </tr>\n",
       "  </tbody>\n",
       "</table>\n",
       "</div>"
      ],
      "text/plain": [
       "       date      time            sender  \\\n",
       "0  28/09/21  19:57:19        CS2 -grp B   \n",
       "1  28/09/21  19:57:19       Rishita CS2   \n",
       "2  28/09/21  19:57:19        CS2 -grp B   \n",
       "3  06/09/22  16:45:49  Shiya Mer GR Cs2   \n",
       "4  06/09/22  16:46:42  Shiya Mer GR Cs2   \n",
       "\n",
       "                                             message  \n",
       "0  ‎Messages and calls are end-to-end encrypted. ...  \n",
       "1                    ‎Rishita CS2 created this group  \n",
       "2                                    ‎You were added  \n",
       "3  There will be a written sessional test for 5 m...  \n",
       "4  Usage of Matlab software is not allowed. Pls b...  "
      ]
     },
     "execution_count": 7,
     "metadata": {},
     "output_type": "execute_result"
    }
   ],
   "source": [
    "\n",
    "# Show result\n",
    "df.head()"
   ]
  },
  {
   "cell_type": "code",
   "execution_count": 8,
   "id": "75434fec",
   "metadata": {},
   "outputs": [
    {
     "name": "stdout",
     "output_type": "stream",
     "text": [
      "<class 'pandas.core.frame.DataFrame'>\n",
      "RangeIndex: 2175 entries, 0 to 2174\n",
      "Data columns (total 4 columns):\n",
      " #   Column   Non-Null Count  Dtype \n",
      "---  ------   --------------  ----- \n",
      " 0   date     2175 non-null   object\n",
      " 1   time     2175 non-null   object\n",
      " 2   sender   2175 non-null   object\n",
      " 3   message  2175 non-null   object\n",
      "dtypes: object(4)\n",
      "memory usage: 68.1+ KB\n"
     ]
    }
   ],
   "source": [
    "df.info()"
   ]
  },
  {
   "cell_type": "code",
   "execution_count": 9,
   "id": "9708aa7d",
   "metadata": {},
   "outputs": [
    {
     "name": "stderr",
     "output_type": "stream",
     "text": [
      "/var/folders/zc/84j1cpxx0ln5cnwzxb6tcmtw0000gn/T/ipykernel_83431/436060674.py:1: UserWarning: Could not infer format, so each element will be parsed individually, falling back to `dateutil`. To ensure parsing is consistent and as-expected, please specify a format.\n",
      "  df['datetime'] = pd.to_datetime(df['date'] + ' ' + df['time'])\n"
     ]
    }
   ],
   "source": [
    "df['datetime'] = pd.to_datetime(df['date'] + ' ' + df['time'])"
   ]
  },
  {
   "cell_type": "code",
   "execution_count": 10,
   "id": "4b4e8fc0",
   "metadata": {},
   "outputs": [
    {
     "data": {
      "text/html": [
       "<div>\n",
       "<style scoped>\n",
       "    .dataframe tbody tr th:only-of-type {\n",
       "        vertical-align: middle;\n",
       "    }\n",
       "\n",
       "    .dataframe tbody tr th {\n",
       "        vertical-align: top;\n",
       "    }\n",
       "\n",
       "    .dataframe thead th {\n",
       "        text-align: right;\n",
       "    }\n",
       "</style>\n",
       "<table border=\"1\" class=\"dataframe\">\n",
       "  <thead>\n",
       "    <tr style=\"text-align: right;\">\n",
       "      <th></th>\n",
       "      <th>date</th>\n",
       "      <th>time</th>\n",
       "      <th>sender</th>\n",
       "      <th>message</th>\n",
       "      <th>datetime</th>\n",
       "    </tr>\n",
       "  </thead>\n",
       "  <tbody>\n",
       "    <tr>\n",
       "      <th>0</th>\n",
       "      <td>28/09/21</td>\n",
       "      <td>19:57:19</td>\n",
       "      <td>CS2 -grp B</td>\n",
       "      <td>‎Messages and calls are end-to-end encrypted. ...</td>\n",
       "      <td>2021-09-28 19:57:19</td>\n",
       "    </tr>\n",
       "    <tr>\n",
       "      <th>1</th>\n",
       "      <td>28/09/21</td>\n",
       "      <td>19:57:19</td>\n",
       "      <td>Rishita CS2</td>\n",
       "      <td>‎Rishita CS2 created this group</td>\n",
       "      <td>2021-09-28 19:57:19</td>\n",
       "    </tr>\n",
       "    <tr>\n",
       "      <th>2</th>\n",
       "      <td>28/09/21</td>\n",
       "      <td>19:57:19</td>\n",
       "      <td>CS2 -grp B</td>\n",
       "      <td>‎You were added</td>\n",
       "      <td>2021-09-28 19:57:19</td>\n",
       "    </tr>\n",
       "    <tr>\n",
       "      <th>3</th>\n",
       "      <td>06/09/22</td>\n",
       "      <td>16:45:49</td>\n",
       "      <td>Shiya Mer GR Cs2</td>\n",
       "      <td>There will be a written sessional test for 5 m...</td>\n",
       "      <td>2022-06-09 16:45:49</td>\n",
       "    </tr>\n",
       "    <tr>\n",
       "      <th>4</th>\n",
       "      <td>06/09/22</td>\n",
       "      <td>16:46:42</td>\n",
       "      <td>Shiya Mer GR Cs2</td>\n",
       "      <td>Usage of Matlab software is not allowed. Pls b...</td>\n",
       "      <td>2022-06-09 16:46:42</td>\n",
       "    </tr>\n",
       "  </tbody>\n",
       "</table>\n",
       "</div>"
      ],
      "text/plain": [
       "       date      time            sender  \\\n",
       "0  28/09/21  19:57:19        CS2 -grp B   \n",
       "1  28/09/21  19:57:19       Rishita CS2   \n",
       "2  28/09/21  19:57:19        CS2 -grp B   \n",
       "3  06/09/22  16:45:49  Shiya Mer GR Cs2   \n",
       "4  06/09/22  16:46:42  Shiya Mer GR Cs2   \n",
       "\n",
       "                                             message            datetime  \n",
       "0  ‎Messages and calls are end-to-end encrypted. ... 2021-09-28 19:57:19  \n",
       "1                    ‎Rishita CS2 created this group 2021-09-28 19:57:19  \n",
       "2                                    ‎You were added 2021-09-28 19:57:19  \n",
       "3  There will be a written sessional test for 5 m... 2022-06-09 16:45:49  \n",
       "4  Usage of Matlab software is not allowed. Pls b... 2022-06-09 16:46:42  "
      ]
     },
     "execution_count": 10,
     "metadata": {},
     "output_type": "execute_result"
    }
   ],
   "source": [
    "df.head()"
   ]
  },
  {
   "cell_type": "code",
   "execution_count": 11,
   "id": "b714c1c4",
   "metadata": {},
   "outputs": [
    {
     "data": {
      "text/plain": [
       "(2175, 5)"
      ]
     },
     "execution_count": 11,
     "metadata": {},
     "output_type": "execute_result"
    }
   ],
   "source": [
    "df.shape"
   ]
  },
  {
   "cell_type": "code",
   "execution_count": 12,
   "id": "6bb8e275",
   "metadata": {},
   "outputs": [],
   "source": [
    "import datetime as dt"
   ]
  },
  {
   "cell_type": "code",
   "execution_count": 13,
   "id": "0a2464b1",
   "metadata": {},
   "outputs": [],
   "source": [
    "df['year']=df['datetime'].dt.year"
   ]
  },
  {
   "cell_type": "code",
   "execution_count": 14,
   "id": "f41139fd",
   "metadata": {},
   "outputs": [],
   "source": [
    "df['month']=df['datetime'].dt.month_name()"
   ]
  },
  {
   "cell_type": "code",
   "execution_count": 15,
   "id": "52846a90",
   "metadata": {},
   "outputs": [],
   "source": [
    "df['day']=df['datetime'].dt.day"
   ]
  },
  {
   "cell_type": "code",
   "execution_count": 16,
   "id": "a40daeb7",
   "metadata": {},
   "outputs": [
    {
     "data": {
      "text/html": [
       "<div>\n",
       "<style scoped>\n",
       "    .dataframe tbody tr th:only-of-type {\n",
       "        vertical-align: middle;\n",
       "    }\n",
       "\n",
       "    .dataframe tbody tr th {\n",
       "        vertical-align: top;\n",
       "    }\n",
       "\n",
       "    .dataframe thead th {\n",
       "        text-align: right;\n",
       "    }\n",
       "</style>\n",
       "<table border=\"1\" class=\"dataframe\">\n",
       "  <thead>\n",
       "    <tr style=\"text-align: right;\">\n",
       "      <th></th>\n",
       "      <th>date</th>\n",
       "      <th>time</th>\n",
       "      <th>sender</th>\n",
       "      <th>message</th>\n",
       "      <th>datetime</th>\n",
       "      <th>year</th>\n",
       "      <th>month</th>\n",
       "      <th>day</th>\n",
       "    </tr>\n",
       "  </thead>\n",
       "  <tbody>\n",
       "    <tr>\n",
       "      <th>0</th>\n",
       "      <td>28/09/21</td>\n",
       "      <td>19:57:19</td>\n",
       "      <td>CS2 -grp B</td>\n",
       "      <td>‎Messages and calls are end-to-end encrypted. ...</td>\n",
       "      <td>2021-09-28 19:57:19</td>\n",
       "      <td>2021</td>\n",
       "      <td>September</td>\n",
       "      <td>28</td>\n",
       "    </tr>\n",
       "    <tr>\n",
       "      <th>1</th>\n",
       "      <td>28/09/21</td>\n",
       "      <td>19:57:19</td>\n",
       "      <td>Rishita CS2</td>\n",
       "      <td>‎Rishita CS2 created this group</td>\n",
       "      <td>2021-09-28 19:57:19</td>\n",
       "      <td>2021</td>\n",
       "      <td>September</td>\n",
       "      <td>28</td>\n",
       "    </tr>\n",
       "    <tr>\n",
       "      <th>2</th>\n",
       "      <td>28/09/21</td>\n",
       "      <td>19:57:19</td>\n",
       "      <td>CS2 -grp B</td>\n",
       "      <td>‎You were added</td>\n",
       "      <td>2021-09-28 19:57:19</td>\n",
       "      <td>2021</td>\n",
       "      <td>September</td>\n",
       "      <td>28</td>\n",
       "    </tr>\n",
       "    <tr>\n",
       "      <th>3</th>\n",
       "      <td>06/09/22</td>\n",
       "      <td>16:45:49</td>\n",
       "      <td>Shiya Mer GR Cs2</td>\n",
       "      <td>There will be a written sessional test for 5 m...</td>\n",
       "      <td>2022-06-09 16:45:49</td>\n",
       "      <td>2022</td>\n",
       "      <td>June</td>\n",
       "      <td>9</td>\n",
       "    </tr>\n",
       "    <tr>\n",
       "      <th>4</th>\n",
       "      <td>06/09/22</td>\n",
       "      <td>16:46:42</td>\n",
       "      <td>Shiya Mer GR Cs2</td>\n",
       "      <td>Usage of Matlab software is not allowed. Pls b...</td>\n",
       "      <td>2022-06-09 16:46:42</td>\n",
       "      <td>2022</td>\n",
       "      <td>June</td>\n",
       "      <td>9</td>\n",
       "    </tr>\n",
       "  </tbody>\n",
       "</table>\n",
       "</div>"
      ],
      "text/plain": [
       "       date      time            sender  \\\n",
       "0  28/09/21  19:57:19        CS2 -grp B   \n",
       "1  28/09/21  19:57:19       Rishita CS2   \n",
       "2  28/09/21  19:57:19        CS2 -grp B   \n",
       "3  06/09/22  16:45:49  Shiya Mer GR Cs2   \n",
       "4  06/09/22  16:46:42  Shiya Mer GR Cs2   \n",
       "\n",
       "                                             message            datetime  \\\n",
       "0  ‎Messages and calls are end-to-end encrypted. ... 2021-09-28 19:57:19   \n",
       "1                    ‎Rishita CS2 created this group 2021-09-28 19:57:19   \n",
       "2                                    ‎You were added 2021-09-28 19:57:19   \n",
       "3  There will be a written sessional test for 5 m... 2022-06-09 16:45:49   \n",
       "4  Usage of Matlab software is not allowed. Pls b... 2022-06-09 16:46:42   \n",
       "\n",
       "   year      month  day  \n",
       "0  2021  September   28  \n",
       "1  2021  September   28  \n",
       "2  2021  September   28  \n",
       "3  2022       June    9  \n",
       "4  2022       June    9  "
      ]
     },
     "execution_count": 16,
     "metadata": {},
     "output_type": "execute_result"
    }
   ],
   "source": [
    "df.head()"
   ]
  },
  {
   "cell_type": "code",
   "execution_count": 17,
   "id": "3dd4a5b1",
   "metadata": {},
   "outputs": [],
   "source": [
    "df['hour']=df['datetime'].dt.hour"
   ]
  },
  {
   "cell_type": "code",
   "execution_count": 18,
   "id": "28105878",
   "metadata": {},
   "outputs": [],
   "source": [
    "df['minute']=df['datetime'].dt.minute"
   ]
  },
  {
   "cell_type": "code",
   "execution_count": 32,
   "id": "fbde7a2b",
   "metadata": {},
   "outputs": [
    {
     "data": {
      "text/html": [
       "<div>\n",
       "<style scoped>\n",
       "    .dataframe tbody tr th:only-of-type {\n",
       "        vertical-align: middle;\n",
       "    }\n",
       "\n",
       "    .dataframe tbody tr th {\n",
       "        vertical-align: top;\n",
       "    }\n",
       "\n",
       "    .dataframe thead th {\n",
       "        text-align: right;\n",
       "    }\n",
       "</style>\n",
       "<table border=\"1\" class=\"dataframe\">\n",
       "  <thead>\n",
       "    <tr style=\"text-align: right;\">\n",
       "      <th></th>\n",
       "      <th>date</th>\n",
       "      <th>time</th>\n",
       "      <th>sender</th>\n",
       "      <th>message</th>\n",
       "      <th>datetime</th>\n",
       "      <th>year</th>\n",
       "      <th>month</th>\n",
       "      <th>day</th>\n",
       "      <th>hour</th>\n",
       "      <th>minute</th>\n",
       "    </tr>\n",
       "  </thead>\n",
       "  <tbody>\n",
       "    <tr>\n",
       "      <th>4</th>\n",
       "      <td>06/09/22</td>\n",
       "      <td>16:46:42</td>\n",
       "      <td>Shiya Mer GR Cs2</td>\n",
       "      <td>Usage of Matlab software is not allowed. Pls b...</td>\n",
       "      <td>2022-06-09 16:46:42</td>\n",
       "      <td>2022</td>\n",
       "      <td>June</td>\n",
       "      <td>9</td>\n",
       "      <td>16</td>\n",
       "      <td>46</td>\n",
       "    </tr>\n",
       "    <tr>\n",
       "      <th>18</th>\n",
       "      <td>08/09/22</td>\n",
       "      <td>12:26:34</td>\n",
       "      <td>Shiya Mer GR Cs2</td>\n",
       "      <td>Syllabus of DMS sessional: Everything upto War...</td>\n",
       "      <td>2022-08-09 12:26:34</td>\n",
       "      <td>2022</td>\n",
       "      <td>August</td>\n",
       "      <td>9</td>\n",
       "      <td>12</td>\n",
       "      <td>26</td>\n",
       "    </tr>\n",
       "    <tr>\n",
       "      <th>29</th>\n",
       "      <td>09/09/22</td>\n",
       "      <td>21:51:00</td>\n",
       "      <td>~ Tanmay</td>\n",
       "      <td>Sessional ka\\n‎[09/09/22, 21:51:49] Shiya Mer ...</td>\n",
       "      <td>2022-09-09 21:51:00</td>\n",
       "      <td>2022</td>\n",
       "      <td>September</td>\n",
       "      <td>9</td>\n",
       "      <td>21</td>\n",
       "      <td>51</td>\n",
       "    </tr>\n",
       "    <tr>\n",
       "      <th>52</th>\n",
       "      <td>09/09/22</td>\n",
       "      <td>22:11:28</td>\n",
       "      <td>Shiya Mer GR Cs2</td>\n",
       "      <td>Sir ne bola ki LMS pe update hoga....\\n‎[09/09...</td>\n",
       "      <td>2022-09-09 22:11:28</td>\n",
       "      <td>2022</td>\n",
       "      <td>September</td>\n",
       "      <td>9</td>\n",
       "      <td>22</td>\n",
       "      <td>11</td>\n",
       "    </tr>\n",
       "    <tr>\n",
       "      <th>84</th>\n",
       "      <td>11/09/22</td>\n",
       "      <td>18:25:21</td>\n",
       "      <td>Krishna chaitanya</td>\n",
       "      <td>LMS par kab update hua kuch pta he?\\n‎[11/09/2...</td>\n",
       "      <td>2022-11-09 18:25:21</td>\n",
       "      <td>2022</td>\n",
       "      <td>November</td>\n",
       "      <td>9</td>\n",
       "      <td>18</td>\n",
       "      <td>25</td>\n",
       "    </tr>\n",
       "  </tbody>\n",
       "</table>\n",
       "</div>"
      ],
      "text/plain": [
       "        date      time             sender  \\\n",
       "4   06/09/22  16:46:42   Shiya Mer GR Cs2   \n",
       "18  08/09/22  12:26:34   Shiya Mer GR Cs2   \n",
       "29  09/09/22  21:51:00           ~ Tanmay   \n",
       "52  09/09/22  22:11:28   Shiya Mer GR Cs2   \n",
       "84  11/09/22  18:25:21  Krishna chaitanya   \n",
       "\n",
       "                                              message            datetime  \\\n",
       "4   Usage of Matlab software is not allowed. Pls b... 2022-06-09 16:46:42   \n",
       "18  Syllabus of DMS sessional: Everything upto War... 2022-08-09 12:26:34   \n",
       "29  Sessional ka\\n‎[09/09/22, 21:51:49] Shiya Mer ... 2022-09-09 21:51:00   \n",
       "52  Sir ne bola ki LMS pe update hoga....\\n‎[09/09... 2022-09-09 22:11:28   \n",
       "84  LMS par kab update hua kuch pta he?\\n‎[11/09/2... 2022-11-09 18:25:21   \n",
       "\n",
       "    year      month  day  hour  minute  \n",
       "4   2022       June    9    16      46  \n",
       "18  2022     August    9    12      26  \n",
       "29  2022  September    9    21      51  \n",
       "52  2022  September    9    22      11  \n",
       "84  2022   November    9    18      25  "
      ]
     },
     "execution_count": 32,
     "metadata": {},
     "output_type": "execute_result"
    }
   ],
   "source": [
    "filtered_df1 = df[df['message'].str.contains('image omitted', case=False, na=False)]\n",
    "filtered_df1.head()"
   ]
  },
  {
   "cell_type": "code",
   "execution_count": 33,
   "id": "fb000134",
   "metadata": {},
   "outputs": [
    {
     "data": {
      "text/plain": [
       "4    Usage of Matlab software is not allowed. Pls b...\n",
       "Name: message, dtype: object"
      ]
     },
     "execution_count": 33,
     "metadata": {},
     "output_type": "execute_result"
    }
   ],
   "source": [
    "filtered_df1['message'][0:1]"
   ]
  },
  {
   "cell_type": "code",
   "execution_count": null,
   "id": "833412a7",
   "metadata": {},
   "outputs": [],
   "source": []
  },
  {
   "cell_type": "code",
   "execution_count": null,
   "id": "6410403b",
   "metadata": {},
   "outputs": [],
   "source": []
  },
  {
   "cell_type": "code",
   "execution_count": null,
   "id": "aec3e9e0",
   "metadata": {},
   "outputs": [],
   "source": []
  },
  {
   "cell_type": "code",
   "execution_count": null,
   "id": "5e0473d2",
   "metadata": {},
   "outputs": [],
   "source": []
  },
  {
   "cell_type": "code",
   "execution_count": null,
   "id": "5589fa33",
   "metadata": {},
   "outputs": [],
   "source": []
  },
  {
   "cell_type": "code",
   "execution_count": null,
   "id": "51488c4b",
   "metadata": {},
   "outputs": [],
   "source": []
  },
  {
   "cell_type": "code",
   "execution_count": null,
   "id": "593847aa",
   "metadata": {},
   "outputs": [],
   "source": []
  },
  {
   "cell_type": "code",
   "execution_count": null,
   "id": "dda90623",
   "metadata": {},
   "outputs": [],
   "source": []
  },
  {
   "cell_type": "code",
   "execution_count": null,
   "id": "96e3709a",
   "metadata": {},
   "outputs": [],
   "source": []
  },
  {
   "cell_type": "code",
   "execution_count": null,
   "id": "be6a637c",
   "metadata": {},
   "outputs": [],
   "source": []
  },
  {
   "cell_type": "code",
   "execution_count": null,
   "id": "d1ea2f7a",
   "metadata": {},
   "outputs": [],
   "source": []
  },
  {
   "cell_type": "code",
   "execution_count": null,
   "id": "f61797da",
   "metadata": {},
   "outputs": [],
   "source": []
  },
  {
   "cell_type": "code",
   "execution_count": null,
   "id": "7aed096f",
   "metadata": {},
   "outputs": [],
   "source": []
  },
  {
   "cell_type": "code",
   "execution_count": null,
   "id": "1cc7c617",
   "metadata": {},
   "outputs": [],
   "source": []
  },
  {
   "cell_type": "code",
   "execution_count": null,
   "id": "bcf7e0fd",
   "metadata": {},
   "outputs": [],
   "source": []
  },
  {
   "cell_type": "code",
   "execution_count": null,
   "id": "a1a31165",
   "metadata": {},
   "outputs": [],
   "source": []
  },
  {
   "cell_type": "code",
   "execution_count": null,
   "id": "3df9f76a",
   "metadata": {},
   "outputs": [],
   "source": []
  },
  {
   "cell_type": "code",
   "execution_count": null,
   "id": "e88b604c",
   "metadata": {},
   "outputs": [],
   "source": []
  },
  {
   "cell_type": "code",
   "execution_count": null,
   "id": "904e67f9",
   "metadata": {},
   "outputs": [],
   "source": []
  },
  {
   "cell_type": "code",
   "execution_count": null,
   "id": "f5b97e38",
   "metadata": {},
   "outputs": [],
   "source": []
  },
  {
   "cell_type": "code",
   "execution_count": null,
   "id": "4e08adb8",
   "metadata": {},
   "outputs": [],
   "source": []
  },
  {
   "cell_type": "code",
   "execution_count": null,
   "id": "0ab3404b",
   "metadata": {},
   "outputs": [],
   "source": []
  },
  {
   "cell_type": "code",
   "execution_count": null,
   "id": "c20d68d1",
   "metadata": {},
   "outputs": [],
   "source": []
  },
  {
   "cell_type": "code",
   "execution_count": null,
   "id": "22187738",
   "metadata": {},
   "outputs": [],
   "source": []
  },
  {
   "cell_type": "code",
   "execution_count": null,
   "id": "9778e862",
   "metadata": {},
   "outputs": [],
   "source": []
  },
  {
   "cell_type": "code",
   "execution_count": null,
   "id": "31a0b93d",
   "metadata": {},
   "outputs": [],
   "source": []
  },
  {
   "cell_type": "code",
   "execution_count": null,
   "id": "41a6d435",
   "metadata": {},
   "outputs": [],
   "source": []
  },
  {
   "cell_type": "code",
   "execution_count": null,
   "id": "bf3977e4",
   "metadata": {},
   "outputs": [],
   "source": []
  },
  {
   "cell_type": "code",
   "execution_count": null,
   "id": "c70c5ac4",
   "metadata": {},
   "outputs": [],
   "source": []
  },
  {
   "cell_type": "code",
   "execution_count": null,
   "id": "4732389b",
   "metadata": {},
   "outputs": [],
   "source": []
  },
  {
   "cell_type": "code",
   "execution_count": null,
   "id": "a840e31f",
   "metadata": {},
   "outputs": [],
   "source": []
  },
  {
   "cell_type": "code",
   "execution_count": null,
   "id": "17acee55",
   "metadata": {},
   "outputs": [],
   "source": []
  },
  {
   "cell_type": "code",
   "execution_count": null,
   "id": "a102e93f",
   "metadata": {},
   "outputs": [],
   "source": []
  },
  {
   "cell_type": "code",
   "execution_count": null,
   "id": "18f9b7c5",
   "metadata": {},
   "outputs": [],
   "source": []
  },
  {
   "cell_type": "code",
   "execution_count": null,
   "id": "48aab8d9",
   "metadata": {},
   "outputs": [],
   "source": []
  },
  {
   "cell_type": "code",
   "execution_count": null,
   "id": "95876c11",
   "metadata": {},
   "outputs": [],
   "source": []
  },
  {
   "cell_type": "code",
   "execution_count": null,
   "id": "5248ddda",
   "metadata": {},
   "outputs": [],
   "source": []
  },
  {
   "cell_type": "code",
   "execution_count": null,
   "id": "3fbf7e30",
   "metadata": {},
   "outputs": [],
   "source": []
  },
  {
   "cell_type": "code",
   "execution_count": null,
   "id": "a5535e53",
   "metadata": {},
   "outputs": [],
   "source": []
  },
  {
   "cell_type": "code",
   "execution_count": null,
   "id": "1a1a3111",
   "metadata": {},
   "outputs": [],
   "source": []
  },
  {
   "cell_type": "code",
   "execution_count": null,
   "id": "12fcf862",
   "metadata": {},
   "outputs": [],
   "source": []
  },
  {
   "cell_type": "code",
   "execution_count": null,
   "id": "5a741358",
   "metadata": {},
   "outputs": [],
   "source": []
  },
  {
   "cell_type": "code",
   "execution_count": null,
   "id": "0947b4fb",
   "metadata": {},
   "outputs": [],
   "source": []
  },
  {
   "cell_type": "code",
   "execution_count": null,
   "id": "35d8e29c",
   "metadata": {},
   "outputs": [],
   "source": []
  },
  {
   "cell_type": "code",
   "execution_count": null,
   "id": "55ddc1d3",
   "metadata": {},
   "outputs": [],
   "source": []
  },
  {
   "cell_type": "code",
   "execution_count": null,
   "id": "e337481c",
   "metadata": {},
   "outputs": [],
   "source": []
  },
  {
   "cell_type": "code",
   "execution_count": null,
   "id": "5c53f2ee",
   "metadata": {},
   "outputs": [],
   "source": []
  },
  {
   "cell_type": "code",
   "execution_count": null,
   "id": "6cac8d36",
   "metadata": {},
   "outputs": [],
   "source": []
  },
  {
   "cell_type": "code",
   "execution_count": null,
   "id": "19cb0913",
   "metadata": {},
   "outputs": [],
   "source": []
  },
  {
   "cell_type": "code",
   "execution_count": null,
   "id": "5f8a7b52",
   "metadata": {},
   "outputs": [],
   "source": []
  },
  {
   "cell_type": "code",
   "execution_count": null,
   "id": "3df673bf",
   "metadata": {},
   "outputs": [],
   "source": []
  },
  {
   "cell_type": "code",
   "execution_count": null,
   "id": "36960318",
   "metadata": {},
   "outputs": [],
   "source": []
  },
  {
   "cell_type": "code",
   "execution_count": null,
   "id": "56f9258b",
   "metadata": {},
   "outputs": [],
   "source": []
  },
  {
   "cell_type": "code",
   "execution_count": null,
   "id": "11039397",
   "metadata": {},
   "outputs": [],
   "source": []
  },
  {
   "cell_type": "code",
   "execution_count": null,
   "id": "487c10db",
   "metadata": {},
   "outputs": [],
   "source": []
  },
  {
   "cell_type": "code",
   "execution_count": null,
   "id": "abd73d18",
   "metadata": {},
   "outputs": [],
   "source": []
  },
  {
   "cell_type": "code",
   "execution_count": null,
   "id": "4aa03f5f",
   "metadata": {},
   "outputs": [],
   "source": []
  },
  {
   "cell_type": "code",
   "execution_count": null,
   "id": "ec3baccc",
   "metadata": {},
   "outputs": [],
   "source": []
  },
  {
   "cell_type": "code",
   "execution_count": null,
   "id": "621feef2",
   "metadata": {},
   "outputs": [],
   "source": []
  },
  {
   "cell_type": "code",
   "execution_count": null,
   "id": "f7dc0000",
   "metadata": {},
   "outputs": [],
   "source": []
  },
  {
   "cell_type": "code",
   "execution_count": null,
   "id": "c111bba7",
   "metadata": {},
   "outputs": [],
   "source": []
  },
  {
   "cell_type": "code",
   "execution_count": null,
   "id": "a52b219b",
   "metadata": {},
   "outputs": [],
   "source": []
  },
  {
   "cell_type": "code",
   "execution_count": null,
   "id": "5cb810a4",
   "metadata": {},
   "outputs": [],
   "source": []
  },
  {
   "cell_type": "code",
   "execution_count": null,
   "id": "ad3ec27b",
   "metadata": {},
   "outputs": [],
   "source": []
  },
  {
   "cell_type": "code",
   "execution_count": null,
   "id": "273fc9d1",
   "metadata": {},
   "outputs": [],
   "source": []
  },
  {
   "cell_type": "code",
   "execution_count": null,
   "id": "90de4e6c",
   "metadata": {},
   "outputs": [],
   "source": []
  },
  {
   "cell_type": "code",
   "execution_count": null,
   "id": "912a8b8c",
   "metadata": {},
   "outputs": [],
   "source": []
  },
  {
   "cell_type": "code",
   "execution_count": null,
   "id": "d0c49199",
   "metadata": {},
   "outputs": [],
   "source": []
  },
  {
   "cell_type": "code",
   "execution_count": null,
   "id": "233d311b",
   "metadata": {},
   "outputs": [],
   "source": []
  },
  {
   "cell_type": "code",
   "execution_count": null,
   "id": "f51809bb",
   "metadata": {},
   "outputs": [],
   "source": []
  },
  {
   "cell_type": "code",
   "execution_count": null,
   "id": "12199944",
   "metadata": {},
   "outputs": [],
   "source": []
  },
  {
   "cell_type": "code",
   "execution_count": null,
   "id": "d29bb1ef",
   "metadata": {},
   "outputs": [],
   "source": []
  },
  {
   "cell_type": "code",
   "execution_count": null,
   "id": "bd9d38c4",
   "metadata": {},
   "outputs": [],
   "source": []
  },
  {
   "cell_type": "code",
   "execution_count": null,
   "id": "aab8a574",
   "metadata": {},
   "outputs": [],
   "source": []
  },
  {
   "cell_type": "code",
   "execution_count": null,
   "id": "7d32bc4d",
   "metadata": {},
   "outputs": [],
   "source": []
  },
  {
   "cell_type": "code",
   "execution_count": null,
   "id": "660b102b",
   "metadata": {},
   "outputs": [],
   "source": []
  },
  {
   "cell_type": "code",
   "execution_count": null,
   "id": "9165c7d3",
   "metadata": {},
   "outputs": [],
   "source": []
  },
  {
   "cell_type": "code",
   "execution_count": null,
   "id": "988bdcfd",
   "metadata": {},
   "outputs": [],
   "source": []
  },
  {
   "cell_type": "code",
   "execution_count": null,
   "id": "3f3a547e",
   "metadata": {},
   "outputs": [],
   "source": []
  },
  {
   "cell_type": "code",
   "execution_count": null,
   "id": "03694bce",
   "metadata": {},
   "outputs": [],
   "source": []
  },
  {
   "cell_type": "code",
   "execution_count": null,
   "id": "9029e782",
   "metadata": {},
   "outputs": [],
   "source": []
  },
  {
   "cell_type": "code",
   "execution_count": null,
   "id": "4aa4fb28",
   "metadata": {},
   "outputs": [],
   "source": []
  },
  {
   "cell_type": "code",
   "execution_count": null,
   "id": "8ad8e022",
   "metadata": {},
   "outputs": [],
   "source": []
  },
  {
   "cell_type": "code",
   "execution_count": null,
   "id": "87218bde",
   "metadata": {},
   "outputs": [],
   "source": []
  },
  {
   "cell_type": "code",
   "execution_count": null,
   "id": "15f2bee8",
   "metadata": {},
   "outputs": [],
   "source": []
  },
  {
   "cell_type": "code",
   "execution_count": null,
   "id": "a80dba0a",
   "metadata": {},
   "outputs": [],
   "source": []
  },
  {
   "cell_type": "code",
   "execution_count": null,
   "id": "a290fb95",
   "metadata": {},
   "outputs": [],
   "source": []
  },
  {
   "cell_type": "code",
   "execution_count": null,
   "id": "7aa427e2",
   "metadata": {},
   "outputs": [],
   "source": []
  },
  {
   "cell_type": "code",
   "execution_count": null,
   "id": "f9f55d6a",
   "metadata": {},
   "outputs": [],
   "source": []
  },
  {
   "cell_type": "code",
   "execution_count": null,
   "id": "e13600ec",
   "metadata": {},
   "outputs": [],
   "source": []
  },
  {
   "cell_type": "code",
   "execution_count": null,
   "id": "330a09c5",
   "metadata": {},
   "outputs": [],
   "source": []
  },
  {
   "cell_type": "code",
   "execution_count": null,
   "id": "15cb895e",
   "metadata": {},
   "outputs": [],
   "source": []
  },
  {
   "cell_type": "code",
   "execution_count": null,
   "id": "ff988cb8",
   "metadata": {},
   "outputs": [],
   "source": []
  },
  {
   "cell_type": "code",
   "execution_count": null,
   "id": "937c0f69",
   "metadata": {},
   "outputs": [],
   "source": []
  },
  {
   "cell_type": "code",
   "execution_count": null,
   "id": "9c38957f",
   "metadata": {},
   "outputs": [],
   "source": []
  },
  {
   "cell_type": "code",
   "execution_count": null,
   "id": "a5e2221f",
   "metadata": {},
   "outputs": [],
   "source": []
  },
  {
   "cell_type": "code",
   "execution_count": null,
   "id": "3cfae832",
   "metadata": {},
   "outputs": [],
   "source": []
  },
  {
   "cell_type": "code",
   "execution_count": null,
   "id": "36f3d1ea",
   "metadata": {},
   "outputs": [],
   "source": []
  },
  {
   "cell_type": "code",
   "execution_count": null,
   "id": "7c3c924c",
   "metadata": {},
   "outputs": [],
   "source": []
  }
 ],
 "metadata": {
  "kernelspec": {
   "display_name": "Python 3",
   "language": "python",
   "name": "python3"
  },
  "language_info": {
   "codemirror_mode": {
    "name": "ipython",
    "version": 3
   },
   "file_extension": ".py",
   "mimetype": "text/x-python",
   "name": "python",
   "nbconvert_exporter": "python",
   "pygments_lexer": "ipython3",
   "version": "3.13.2"
  }
 },
 "nbformat": 4,
 "nbformat_minor": 5
}
